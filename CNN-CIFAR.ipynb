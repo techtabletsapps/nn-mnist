{
 "cells": [
  {
   "cell_type": "code",
   "execution_count": 1,
   "metadata": {},
   "outputs": [],
   "source": [
    "# Step 1. Import Tensorflow and other helper libraries\n",
    "\n",
    "# make sure tensorflow is installed; uncomment the line before if you need to\n",
    "# pip install tensorflow\n",
    "\n",
    "# TensorFlow and tf.keras\n",
    "import tensorflow as tf\n",
    "\n",
    "# Helper libraries\n",
    "import numpy as np\n",
    "import matplotlib.pyplot as plt\n",
    "from tensorflow.keras import datasets, layers, models  #this is a new dependency!"
   ]
  },
  {
   "cell_type": "markdown",
   "metadata": {},
   "source": [
    "From https://www.cs.toronto.edu/~kriz/cifar.html:\n",
    "\"The CIFAR-10 dataset consists of 60000 color images in 10 classes, with 6000 images per class.\n",
    "\n",
    "The classes are completely mutually exclusive. There is no overlap between automobiles and trucks. \"Automobile\" includes sedans, SUVs, things of that sort. \"Truck\" includes only big trucks. Neither includes pickup trucks.\""
   ]
  },
  {
   "cell_type": "code",
   "execution_count": 2,
   "metadata": {},
   "outputs": [],
   "source": [
    "# Step 2. Load the CIFAR-10 data\n",
    "cifar10 = tf.keras.datasets.cifar10\n",
    "(x_train, y_train), (x_test, y_test) = cifar10.load_data()"
   ]
  },
  {
   "cell_type": "code",
   "execution_count": 3,
   "metadata": {},
   "outputs": [
    {
     "name": "stdout",
     "output_type": "stream",
     "text": [
      "Unique classes in training labels: [0 1 2 3 4 5 6 7 8 9]\n"
     ]
    }
   ],
   "source": [
    "# Step 3. Pre-process and Explore the data\n",
    "\n",
    "# Pre-process the data: convert pixel intensities to double values between 0 and 1\n",
    "x_train, x_test = x_train / 255.0, x_test / 255.0\n",
    "\n",
    "# Write code to check the data has the correct shape/dimension\n",
    "# Insert your code below\n",
    "unique_classes = np.unique(y_train)\n",
    "print(\"Unique classes in training labels:\", unique_classes)  # Should be 0-9"
   ]
  },
  {
   "cell_type": "code",
   "execution_count": 4,
   "metadata": {},
   "outputs": [],
   "source": [
    "# Step 4. Build the tf.keras.Sequential model by stacking layers.\n",
    "\n",
    "# A. Create an \"empty\" sequential model and then add layers, one by one\n",
    "# B. Add a Conv2D layer with the following characteristics:\n",
    "#      - 32 output filters\n",
    "#      - each of size 5 by 5\n",
    "#      - use the Rectified Linear Unit as a non-linear activation function\n",
    "#      - no padding\n",
    "#      - the input shape is the same as the size of each of the images in the data set\n",
    "# C. Add a maxpooling layer with the following characteristics:\n",
    "#      - pool size is 2 by 2\n",
    "#      - stride is 1\n",
    "#      - no padding\n",
    "\n",
    "# Don't add any flatten or fulley connected layers at the end!\n",
    "\n",
    "# Insert your code below:\n",
    "# A. Create an \"empty\" sequential model\n",
    "model = tf.keras.Sequential()\n",
    "\n",
    "# B. Add a Conv2D layer\n",
    "model.add(layers.Conv2D(32, (5, 5), activation='relu', padding='valid', input_shape=(32, 32, 3)))\n",
    "\n",
    "# C. Add a MaxPooling layer\n",
    "model.add(layers.MaxPooling2D(pool_size=(2, 2), strides=1, padding='valid'))"
   ]
  },
  {
   "cell_type": "code",
   "execution_count": 5,
   "metadata": {},
   "outputs": [
    {
     "name": "stdout",
     "output_type": "stream",
     "text": [
      "Model: \"sequential\"\n",
      "_________________________________________________________________\n",
      "Layer (type)                 Output Shape              Param #   \n",
      "=================================================================\n",
      "conv2d (Conv2D)              (None, 28, 28, 32)        2432      \n",
      "_________________________________________________________________\n",
      "max_pooling2d (MaxPooling2D) (None, 27, 27, 32)        0         \n",
      "=================================================================\n",
      "Total params: 2,432\n",
      "Trainable params: 2,432\n",
      "Non-trainable params: 0\n",
      "_________________________________________________________________\n"
     ]
    }
   ],
   "source": [
    "# Once a model is \"built\", you can call its summary() method to display its contents:\n",
    "# Display the model summary\n",
    "model.summary()"
   ]
  },
  {
   "cell_type": "code",
   "execution_count": 6,
   "metadata": {},
   "outputs": [],
   "source": [
    "# Step 5. Add more layers.\n",
    "\n",
    "# A. Add a Conv2D layer with the following characteristics:\n",
    "#      - 32 output filters\n",
    "#      - each of size 3 by 3\n",
    "#      - use the Rectified Linear Unit as a non-linear activation function\n",
    "#      - no padding\n",
    "#      - the input shape is the size of the output shape from the last maxpooling layer\n",
    "# B. Add a maxpooling layer with the following characteristics:\n",
    "#      - pool size is 2 by 2\n",
    "#      - stride is 2\n",
    "#      - no padding\n",
    "\n",
    "# Don't add any flatten or fulley connected layers at the end!\n",
    "\n",
    "# Insert your code below:\n",
    "# A. Add a Conv2D layer\n",
    "model.add(layers.Conv2D(32, (3, 3), activation='relu', padding='valid'))\n",
    "\n",
    "# B. Add a MaxPooling layer\n",
    "model.add(layers.MaxPooling2D(pool_size=(2, 2), strides=2, padding='valid'))\n"
   ]
  },
  {
   "cell_type": "code",
   "execution_count": 7,
   "metadata": {},
   "outputs": [
    {
     "name": "stdout",
     "output_type": "stream",
     "text": [
      "Model: \"sequential\"\n",
      "_________________________________________________________________\n",
      "Layer (type)                 Output Shape              Param #   \n",
      "=================================================================\n",
      "conv2d (Conv2D)              (None, 28, 28, 32)        2432      \n",
      "_________________________________________________________________\n",
      "max_pooling2d (MaxPooling2D) (None, 27, 27, 32)        0         \n",
      "_________________________________________________________________\n",
      "conv2d_1 (Conv2D)            (None, 25, 25, 32)        9248      \n",
      "_________________________________________________________________\n",
      "max_pooling2d_1 (MaxPooling2 (None, 12, 12, 32)        0         \n",
      "=================================================================\n",
      "Total params: 11,680\n",
      "Trainable params: 11,680\n",
      "Non-trainable params: 0\n",
      "_________________________________________________________________\n"
     ]
    }
   ],
   "source": [
    "# Once a model is \"built\", you can call its summary() method to display its contents:\n",
    "model.summary()"
   ]
  },
  {
   "cell_type": "code",
   "execution_count": 8,
   "metadata": {},
   "outputs": [
    {
     "name": "stdout",
     "output_type": "stream",
     "text": [
      "Model: \"sequential\"\n",
      "_________________________________________________________________\n",
      "Layer (type)                 Output Shape              Param #   \n",
      "=================================================================\n",
      "conv2d (Conv2D)              (None, 28, 28, 32)        2432      \n",
      "_________________________________________________________________\n",
      "max_pooling2d (MaxPooling2D) (None, 27, 27, 32)        0         \n",
      "_________________________________________________________________\n",
      "conv2d_1 (Conv2D)            (None, 25, 25, 32)        9248      \n",
      "_________________________________________________________________\n",
      "max_pooling2d_1 (MaxPooling2 (None, 12, 12, 32)        0         \n",
      "_________________________________________________________________\n",
      "conv2d_2 (Conv2D)            (None, 10, 10, 64)        18496     \n",
      "_________________________________________________________________\n",
      "flatten (Flatten)            (None, 6400)              0         \n",
      "_________________________________________________________________\n",
      "dense (Dense)                (None, 1024)              6554624   \n",
      "_________________________________________________________________\n",
      "dense_1 (Dense)              (None, 10)                10250     \n",
      "=================================================================\n",
      "Total params: 6,595,050\n",
      "Trainable params: 6,595,050\n",
      "Non-trainable params: 0\n",
      "_________________________________________________________________\n"
     ]
    }
   ],
   "source": [
    "# Adding one more convolutional layer, one flatten layer and two dense layers\n",
    "\n",
    "model.add(layers.Conv2D(64, (3,3), activation='relu'))\n",
    "model.add(layers.Flatten())\n",
    "model.add(layers.Dense(1024))\n",
    "model.add(layers.Dense(10))# last layer should be the size of the output\n",
    "model.summary()"
   ]
  },
  {
   "cell_type": "code",
   "execution_count": 9,
   "metadata": {},
   "outputs": [
    {
     "name": "stdout",
     "output_type": "stream",
     "text": [
      "WARNING:tensorflow:Layer conv2d is casting an input tensor from dtype float64 to the layer's dtype of float32, which is new behavior in TensorFlow 2.  The layer has dtype float32 because it's dtype defaults to floatx.\n",
      "\n",
      "If you intended to run this layer in float32, you can safely ignore this warning. If in doubt, this warning is likely only an issue if you are porting a TensorFlow 1.X model to TensorFlow 2.\n",
      "\n",
      "To change all layers to have dtype float64 by default, call `tf.keras.backend.set_floatx('float64')`. To change just this layer, pass dtype='float64' to the layer constructor. If you are the author of this layer, you can disable autocasting by passing autocast=False to the base Layer constructor.\n",
      "\n"
     ]
    },
    {
     "data": {
      "text/plain": [
       "array([[-0.02287042, -0.10986414,  0.0671396 ,  0.10299149,  0.09654394,\n",
       "         0.12255958, -0.03789412, -0.03965302, -0.0376921 ,  0.26708645]],\n",
       "      dtype=float32)"
      ]
     },
     "execution_count": 9,
     "metadata": {},
     "output_type": "execute_result"
    }
   ],
   "source": [
    "# For each example the model returns a vector of \"logits\" or \"log-odds\" scores, one for each class.\n",
    "# pass 1 training data image to the model and convert the predictions into a numpy array\n",
    "predictions = model(x_train[:1]).numpy()\n",
    "predictions"
   ]
  },
  {
   "cell_type": "code",
   "execution_count": 10,
   "metadata": {},
   "outputs": [
    {
     "data": {
      "text/plain": [
       "array([[0.09329689, 0.08552366, 0.10208409, 0.10581039, 0.10513037,\n",
       "        0.10790129, 0.09190571, 0.09174419, 0.09192427, 0.12467916]],\n",
       "      dtype=float32)"
      ]
     },
     "execution_count": 10,
     "metadata": {},
     "output_type": "execute_result"
    }
   ],
   "source": [
    "# Use the tf.nn.softmax function to convert these logits into \"probabilities\" for each class:\n",
    "tf.nn.softmax(predictions).numpy()\n"
   ]
  },
  {
   "cell_type": "code",
   "execution_count": 11,
   "metadata": {},
   "outputs": [
    {
     "data": {
      "text/plain": [
       "2.3869922"
      ]
     },
     "execution_count": 11,
     "metadata": {},
     "output_type": "execute_result"
    }
   ],
   "source": [
    "# Choose an optimizer and loss function for training\n",
    "\n",
    "# Deep learning neural networks are trained using the stochastic gradient descent optimization \n",
    "# algorithm. As part of the optimization algorithm, the error for the current state of the \n",
    "# model must be estimated repeatedly. This requires the choice of an error function, \n",
    "# conventionally called a loss function, that can be used to estimate the loss of the model so \n",
    "# that the weights can be updated to reduce the loss on the next evaluation.\n",
    "\n",
    "# The losses.SparseCategoricalCrossentropy loss takes a vector of logits and a True index and \n",
    "# returns a scalar loss for each example.\n",
    "\n",
    "loss_fn = tf.keras.losses.SparseCategoricalCrossentropy(from_logits=True)\n",
    "\n",
    "# This loss is equal to the negative log probability of the true class: It is zero if the model \n",
    "# is sure of the correct class. This untrained model gives probabilities close to random\n",
    "# (1/10 for each class), so the initial loss should be close to -tf.math.log(1/10) ~= 2.3.\n",
    "\n",
    "loss_fn(y_train[:1], predictions).numpy()"
   ]
  },
  {
   "cell_type": "code",
   "execution_count": 12,
   "metadata": {},
   "outputs": [
    {
     "name": "stdout",
     "output_type": "stream",
     "text": [
      "Train on 50000 samples, validate on 10000 samples\n",
      "Epoch 1/10\n",
      "50000/50000 [==============================] - 1065s 21ms/sample - loss: 1.5310 - accuracy: 0.4488 - val_loss: 1.3067 - val_accuracy: 0.5325\n",
      "Epoch 2/10\n",
      "50000/50000 [==============================] - 1059s 21ms/sample - loss: 1.2430 - accuracy: 0.5620 - val_loss: 1.2245 - val_accuracy: 0.5678\n",
      "Epoch 3/10\n",
      "50000/50000 [==============================] - 1061s 21ms/sample - loss: 1.1088 - accuracy: 0.6115 - val_loss: 1.1756 - val_accuracy: 0.5888\n",
      "Epoch 4/10\n",
      "50000/50000 [==============================] - 1064s 21ms/sample - loss: 1.0237 - accuracy: 0.6389 - val_loss: 1.1196 - val_accuracy: 0.6150\n",
      "Epoch 5/10\n",
      "50000/50000 [==============================] - 1067s 21ms/sample - loss: 0.9599 - accuracy: 0.6654 - val_loss: 1.1070 - val_accuracy: 0.6186\n",
      "Epoch 6/10\n",
      "50000/50000 [==============================] - 1066s 21ms/sample - loss: 0.9046 - accuracy: 0.6821 - val_loss: 1.1283 - val_accuracy: 0.6204\n",
      "Epoch 7/10\n",
      "50000/50000 [==============================] - 1058s 21ms/sample - loss: 0.8556 - accuracy: 0.6995 - val_loss: 1.1738 - val_accuracy: 0.6068\n",
      "Epoch 8/10\n",
      "50000/50000 [==============================] - 1047s 21ms/sample - loss: 0.8105 - accuracy: 0.7150 - val_loss: 1.1704 - val_accuracy: 0.6087\n",
      "Epoch 9/10\n",
      "50000/50000 [==============================] - 1059s 21ms/sample - loss: 0.7704 - accuracy: 0.7277 - val_loss: 1.1768 - val_accuracy: 0.6183\n",
      "Epoch 10/10\n",
      "50000/50000 [==============================] - 1057s 21ms/sample - loss: 0.7392 - accuracy: 0.7393 - val_loss: 1.2137 - val_accuracy: 0.6036\n"
     ]
    },
    {
     "data": {
      "text/plain": [
       "<tensorflow.python.keras.callbacks.History at 0x75015929f590>"
      ]
     },
     "execution_count": 12,
     "metadata": {},
     "output_type": "execute_result"
    }
   ],
   "source": [
    "# Step 6: Ready to compile! \n",
    "# optimizer parameter = 'adam'. Other optimizer options here: \n",
    "# https://www.tensorflow.org/api_docs/python/tf/keras/optimizers\n",
    "# loss = the name of the loss function\n",
    "# Typically you will use metrics=['accuracy']\n",
    "model.compile(optimizer='adam', loss=loss_fn, metrics=['accuracy'])\n",
    "\n",
    "# Task: call the model.fit method to train the model for 10 iterations\n",
    "\n",
    "# Insert your code below:\n",
    "\n",
    "model.fit(x_train, y_train, epochs=10, validation_data=(x_test, y_test))\n"
   ]
  },
  {
   "cell_type": "code",
   "execution_count": 13,
   "metadata": {},
   "outputs": [
    {
     "name": "stdout",
     "output_type": "stream",
     "text": [
      "10000/10000 - 38s - loss: 1.2137 - accuracy: 0.6036\n",
      "\n",
      "Test accuracy: 0.6036\n"
     ]
    }
   ],
   "source": [
    "# Step 7a. Evaluate the model: compare how the model performs on the test dataset\n",
    "\n",
    "# The Model.evaluate method checks the models performance, usually on a \"Validation-set\" \n",
    "# or \"Test-set\".\n",
    "\n",
    "test_loss, test_acc = model.evaluate(x_test,  y_test, verbose=2)\n",
    "\n",
    "print('\\nTest accuracy:', test_acc)"
   ]
  },
  {
   "cell_type": "code",
   "execution_count": null,
   "metadata": {},
   "outputs": [],
   "source": [
    "# 7b. Plot training vs testing accuracy\n",
    "\n",
    "history = model.fit(x_train, y_train, epochs=10, validation_data=(x_test, y_test))\n",
    "plt.plot(history.history['accuracy'], label='accuracy')\n",
    "plt.plot(history.history['val_accuracy'], label = 'val_accuracy')\n",
    "plt.xlabel('Epoch')\n",
    "plt.ylabel('Accuracy')\n",
    "plt.ylim([0.5, 1])\n",
    "plt.legend(loc='lower right')\n",
    "\n",
    "test_loss, test_acc = model.evaluate(x_test,  y_test, verbose=2)"
   ]
  },
  {
   "cell_type": "code",
   "execution_count": null,
   "metadata": {},
   "outputs": [],
   "source": [
    "# 8. Make predictions\n",
    "\n",
    "# If you want your model to return a probability, you can wrap the trained model, and attach \n",
    "# the softmax classifier to it:\n",
    "\n",
    "probability_model = tf.keras.Sequential([model,tf.keras.layers.Softmax()])\n",
    "predictions = probability_model.predict(x_test[:10])# test the first 10 images\n",
    "print(predictions.shape)\n",
    "predictions[0]\n"
   ]
  },
  {
   "cell_type": "code",
   "execution_count": null,
   "metadata": {},
   "outputs": [],
   "source": [
    "# Apply a label and compare with the test label\n",
    "\n",
    "print(np.argmax(predictions, axis = 1))\n",
    "print(y_test[:10])\n"
   ]
  },
  {
   "cell_type": "code",
   "execution_count": null,
   "metadata": {},
   "outputs": [],
   "source": [
    "# View the first five images, to check the validity of the labels\n",
    "for i in range(5):\n",
    "    plt.subplot(1,5,i+1)\n",
    "    plt.xticks([])\n",
    "    plt.yticks([])\n",
    "    plt.grid(False)\n",
    "    plt.imshow(x_test[i])\n",
    "    plt.xlabel(class_names[y_test[i][0]])\n",
    "plt.show() "
   ]
  },
  {
   "cell_type": "code",
   "execution_count": null,
   "metadata": {},
   "outputs": [],
   "source": []
  }
 ],
 "metadata": {
  "kernelspec": {
   "display_name": "Python 3",
   "language": "python",
   "name": "python3"
  },
  "language_info": {
   "codemirror_mode": {
    "name": "ipython",
    "version": 3
   },
   "file_extension": ".py",
   "mimetype": "text/x-python",
   "name": "python",
   "nbconvert_exporter": "python",
   "pygments_lexer": "ipython3",
   "version": "3.7.6"
  }
 },
 "nbformat": 4,
 "nbformat_minor": 2
}
